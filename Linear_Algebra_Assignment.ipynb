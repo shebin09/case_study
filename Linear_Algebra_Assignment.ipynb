{
 "cells": [
  {
   "cell_type": "markdown",
   "id": "c1420930",
   "metadata": {},
   "source": [
    "# Linear Algebra Assignment"
   ]
  },
  {
   "cell_type": "markdown",
   "id": "5222df71",
   "metadata": {},
   "source": [
    "### Question 1\n",
    "Using auto-mpg data, find the top 5 similar cars to toyota corona mark ii"
   ]
  },
  {
   "cell_type": "code",
   "execution_count": 2,
   "id": "67aa0659",
   "metadata": {},
   "outputs": [
    {
     "data": {
      "text/html": [
       "<div>\n",
       "<style scoped>\n",
       "    .dataframe tbody tr th:only-of-type {\n",
       "        vertical-align: middle;\n",
       "    }\n",
       "\n",
       "    .dataframe tbody tr th {\n",
       "        vertical-align: top;\n",
       "    }\n",
       "\n",
       "    .dataframe thead th {\n",
       "        text-align: right;\n",
       "    }\n",
       "</style>\n",
       "<table border=\"1\" class=\"dataframe\">\n",
       "  <thead>\n",
       "    <tr style=\"text-align: right;\">\n",
       "      <th></th>\n",
       "      <th>mpg</th>\n",
       "      <th>cylinders</th>\n",
       "      <th>displacement</th>\n",
       "      <th>horsepower</th>\n",
       "      <th>weight</th>\n",
       "      <th>acceleration</th>\n",
       "      <th>model year</th>\n",
       "      <th>origin</th>\n",
       "      <th>car name</th>\n",
       "      <th>similarities</th>\n",
       "    </tr>\n",
       "  </thead>\n",
       "  <tbody>\n",
       "    <tr>\n",
       "      <th>18</th>\n",
       "      <td>27.0</td>\n",
       "      <td>4</td>\n",
       "      <td>97.0</td>\n",
       "      <td>88</td>\n",
       "      <td>2130</td>\n",
       "      <td>14.5</td>\n",
       "      <td>70</td>\n",
       "      <td>3</td>\n",
       "      <td>datsun pl510</td>\n",
       "      <td>0.984618</td>\n",
       "    </tr>\n",
       "    <tr>\n",
       "      <th>31</th>\n",
       "      <td>25.0</td>\n",
       "      <td>4</td>\n",
       "      <td>113.0</td>\n",
       "      <td>95</td>\n",
       "      <td>2228</td>\n",
       "      <td>14.0</td>\n",
       "      <td>71</td>\n",
       "      <td>3</td>\n",
       "      <td>toyota corona</td>\n",
       "      <td>0.983596</td>\n",
       "    </tr>\n",
       "    <tr>\n",
       "      <th>57</th>\n",
       "      <td>24.0</td>\n",
       "      <td>4</td>\n",
       "      <td>113.0</td>\n",
       "      <td>95</td>\n",
       "      <td>2278</td>\n",
       "      <td>15.5</td>\n",
       "      <td>72</td>\n",
       "      <td>3</td>\n",
       "      <td>toyota corona hardtop</td>\n",
       "      <td>0.980388</td>\n",
       "    </tr>\n",
       "    <tr>\n",
       "      <th>82</th>\n",
       "      <td>23.0</td>\n",
       "      <td>4</td>\n",
       "      <td>120.0</td>\n",
       "      <td>97</td>\n",
       "      <td>2506</td>\n",
       "      <td>14.5</td>\n",
       "      <td>72</td>\n",
       "      <td>3</td>\n",
       "      <td>toyouta corona mark ii (sw)</td>\n",
       "      <td>0.980079</td>\n",
       "    </tr>\n",
       "    <tr>\n",
       "      <th>29</th>\n",
       "      <td>27.0</td>\n",
       "      <td>4</td>\n",
       "      <td>97.0</td>\n",
       "      <td>88</td>\n",
       "      <td>2130</td>\n",
       "      <td>14.5</td>\n",
       "      <td>71</td>\n",
       "      <td>3</td>\n",
       "      <td>datsun pl510</td>\n",
       "      <td>0.977138</td>\n",
       "    </tr>\n",
       "  </tbody>\n",
       "</table>\n",
       "</div>"
      ],
      "text/plain": [
       "     mpg  cylinders  displacement horsepower  weight  acceleration  \\\n",
       "18  27.0          4          97.0         88    2130          14.5   \n",
       "31  25.0          4         113.0         95    2228          14.0   \n",
       "57  24.0          4         113.0         95    2278          15.5   \n",
       "82  23.0          4         120.0         97    2506          14.5   \n",
       "29  27.0          4          97.0         88    2130          14.5   \n",
       "\n",
       "    model year  origin                     car name  similarities  \n",
       "18          70       3                 datsun pl510      0.984618  \n",
       "31          71       3                toyota corona      0.983596  \n",
       "57          72       3        toyota corona hardtop      0.980388  \n",
       "82          72       3  toyouta corona mark ii (sw)      0.980079  \n",
       "29          71       3                 datsun pl510      0.977138  "
      ]
     },
     "execution_count": 2,
     "metadata": {},
     "output_type": "execute_result"
    }
   ],
   "source": [
    "import pandas as pd\n",
    "import numpy as np\n",
    "data=pd.read_csv('auto-mpg.csv')\n",
    "data1=data.select_dtypes(include='number').copy()\n",
    "data1\n",
    "from sklearn.preprocessing import StandardScaler\n",
    "from sklearn.metrics.pairwise import cosine_similarity\n",
    "x=data1.columns.tolist()\n",
    "standard_scaler=StandardScaler()\n",
    "y=data[x].to_numpy()\n",
    "y_scaler=standard_scaler.fit_transform(y)\n",
    "t_i=data[data['car name']=='toyota corona mark ii'].index[0]\n",
    "t_v=y_scaler[t_i].reshape(1,-1)\n",
    "similarities=cosine_similarity(y_scaler,t_v).flatten()\n",
    "data['similarities']=similarities\n",
    "y_scaler=standard_scaler.fit_transform(y)\n",
    "df_filtered = data[data.index != t_i]\n",
    "\n",
    "# Get top 5 most similar cars\n",
    "top_5 = df_filtered.sort_values(by='similarities', ascending=False).head(5)\n",
    "top_5\n"
   ]
  },
  {
   "cell_type": "markdown",
   "id": "8c9e5c34",
   "metadata": {},
   "source": [
    "### Question 2\n",
    "Find completely unique/orthogonal car to toyota corona mark ii"
   ]
  },
  {
   "cell_type": "code",
   "execution_count": 3,
   "id": "249fe683",
   "metadata": {},
   "outputs": [
    {
     "name": "stderr",
     "output_type": "stream",
     "text": [
      "C:\\Users\\shebi\\AppData\\Local\\Temp\\ipykernel_22564\\3907585400.py:1: SettingWithCopyWarning: \n",
      "A value is trying to be set on a copy of a slice from a DataFrame.\n",
      "Try using .loc[row_indexer,col_indexer] = value instead\n",
      "\n",
      "See the caveats in the documentation: https://pandas.pydata.org/pandas-docs/stable/user_guide/indexing.html#returning-a-view-versus-a-copy\n",
      "  df_filtered['ortho']=np.abs(data['similarities'])\n"
     ]
    },
    {
     "data": {
      "text/html": [
       "<div>\n",
       "<style scoped>\n",
       "    .dataframe tbody tr th:only-of-type {\n",
       "        vertical-align: middle;\n",
       "    }\n",
       "\n",
       "    .dataframe tbody tr th {\n",
       "        vertical-align: top;\n",
       "    }\n",
       "\n",
       "    .dataframe thead th {\n",
       "        text-align: right;\n",
       "    }\n",
       "</style>\n",
       "<table border=\"1\" class=\"dataframe\">\n",
       "  <thead>\n",
       "    <tr style=\"text-align: right;\">\n",
       "      <th></th>\n",
       "      <th>mpg</th>\n",
       "      <th>cylinders</th>\n",
       "      <th>displacement</th>\n",
       "      <th>horsepower</th>\n",
       "      <th>weight</th>\n",
       "      <th>acceleration</th>\n",
       "      <th>model year</th>\n",
       "      <th>origin</th>\n",
       "      <th>car name</th>\n",
       "      <th>similarities</th>\n",
       "      <th>ortho</th>\n",
       "    </tr>\n",
       "  </thead>\n",
       "  <tbody>\n",
       "    <tr>\n",
       "      <th>269</th>\n",
       "      <td>30.9</td>\n",
       "      <td>4</td>\n",
       "      <td>105.0</td>\n",
       "      <td>75</td>\n",
       "      <td>2230</td>\n",
       "      <td>14.5</td>\n",
       "      <td>78</td>\n",
       "      <td>1</td>\n",
       "      <td>dodge omni</td>\n",
       "      <td>-0.000669</td>\n",
       "      <td>0.000669</td>\n",
       "    </tr>\n",
       "    <tr>\n",
       "      <th>47</th>\n",
       "      <td>19.0</td>\n",
       "      <td>6</td>\n",
       "      <td>250.0</td>\n",
       "      <td>100</td>\n",
       "      <td>3282</td>\n",
       "      <td>15.0</td>\n",
       "      <td>71</td>\n",
       "      <td>1</td>\n",
       "      <td>pontiac firebird</td>\n",
       "      <td>-0.002935</td>\n",
       "      <td>0.002935</td>\n",
       "    </tr>\n",
       "    <tr>\n",
       "      <th>394</th>\n",
       "      <td>44.0</td>\n",
       "      <td>4</td>\n",
       "      <td>97.0</td>\n",
       "      <td>52</td>\n",
       "      <td>2130</td>\n",
       "      <td>24.6</td>\n",
       "      <td>82</td>\n",
       "      <td>2</td>\n",
       "      <td>vw pickup</td>\n",
       "      <td>-0.003854</td>\n",
       "      <td>0.003854</td>\n",
       "    </tr>\n",
       "    <tr>\n",
       "      <th>211</th>\n",
       "      <td>16.5</td>\n",
       "      <td>6</td>\n",
       "      <td>168.0</td>\n",
       "      <td>120</td>\n",
       "      <td>3820</td>\n",
       "      <td>16.7</td>\n",
       "      <td>76</td>\n",
       "      <td>2</td>\n",
       "      <td>mercedes-benz 280s</td>\n",
       "      <td>0.003877</td>\n",
       "      <td>0.003877</td>\n",
       "    </tr>\n",
       "    <tr>\n",
       "      <th>34</th>\n",
       "      <td>16.0</td>\n",
       "      <td>6</td>\n",
       "      <td>225.0</td>\n",
       "      <td>105</td>\n",
       "      <td>3439</td>\n",
       "      <td>15.5</td>\n",
       "      <td>71</td>\n",
       "      <td>1</td>\n",
       "      <td>plymouth satellite custom</td>\n",
       "      <td>-0.004076</td>\n",
       "      <td>0.004076</td>\n",
       "    </tr>\n",
       "  </tbody>\n",
       "</table>\n",
       "</div>"
      ],
      "text/plain": [
       "      mpg  cylinders  displacement horsepower  weight  acceleration  \\\n",
       "269  30.9          4         105.0         75    2230          14.5   \n",
       "47   19.0          6         250.0        100    3282          15.0   \n",
       "394  44.0          4          97.0         52    2130          24.6   \n",
       "211  16.5          6         168.0        120    3820          16.7   \n",
       "34   16.0          6         225.0        105    3439          15.5   \n",
       "\n",
       "     model year  origin                   car name  similarities     ortho  \n",
       "269          78       1                 dodge omni     -0.000669  0.000669  \n",
       "47           71       1           pontiac firebird     -0.002935  0.002935  \n",
       "394          82       2                  vw pickup     -0.003854  0.003854  \n",
       "211          76       2         mercedes-benz 280s      0.003877  0.003877  \n",
       "34           71       1  plymouth satellite custom     -0.004076  0.004076  "
      ]
     },
     "execution_count": 3,
     "metadata": {},
     "output_type": "execute_result"
    }
   ],
   "source": [
    "df_filtered['ortho']=np.abs(data['similarities'])\n",
    "ortho=df_filtered.sort_values(by='ortho').head(5)\n",
    "ortho\n"
   ]
  },
  {
   "cell_type": "markdown",
   "id": "39d7a2d2",
   "metadata": {},
   "source": [
    "### Question 3\n",
    "Project the data to a 2-dimentional space and visualize using scatter plot"
   ]
  },
  {
   "cell_type": "code",
   "execution_count": 19,
   "id": "7b04477f",
   "metadata": {},
   "outputs": [
    {
     "name": "stderr",
     "output_type": "stream",
     "text": [
      "C:\\Users\\shebi\\AppData\\Local\\Temp\\ipykernel_22564\\2668820517.py:7: FutureWarning: A value is trying to be set on a copy of a DataFrame or Series through chained assignment using an inplace method.\n",
      "The behavior will change in pandas 3.0. This inplace method will never work because the intermediate object on which we are setting values always behaves as a copy.\n",
      "\n",
      "For example, when doing 'df[col].method(value, inplace=True)', try using 'df.method({col: value}, inplace=True)' or df[col] = df[col].method(value) instead, to perform the operation inplace on the original object.\n",
      "\n",
      "\n",
      "  data['horsepower'].replace('?', np.nan, inplace=True)\n",
      "C:\\Users\\shebi\\AppData\\Local\\Temp\\ipykernel_22564\\2668820517.py:9: FutureWarning: A value is trying to be set on a copy of a DataFrame or Series through chained assignment using an inplace method.\n",
      "The behavior will change in pandas 3.0. This inplace method will never work because the intermediate object on which we are setting values always behaves as a copy.\n",
      "\n",
      "For example, when doing 'df[col].method(value, inplace=True)', try using 'df.method({col: value}, inplace=True)' or df[col] = df[col].method(value) instead, to perform the operation inplace on the original object.\n",
      "\n",
      "\n",
      "  data['horsepower'].fillna(data['horsepower'].mean(), inplace=True)\n"
     ]
    },
    {
     "data": {
      "image/png": "[encoded data removed]",
      "text/plain": [
       "<Figure size 1000x600 with 1 Axes>"
      ]
     },
     "metadata": {},
     "output_type": "display_data"
    }
   ],
   "source": [
    "\n",
    "import numpy as np\n",
    "import pandas as pd\n",
    "import matplotlib.pyplot as plt\n",
    "from sklearn.preprocessing import StandardScaler\n",
    "\n",
    "data = pd.read_csv('auto-mpg.csv')\n",
    "data['horsepower'].replace('?', np.nan, inplace=True)\n",
    "data['horsepower'] = data['horsepower'].astype(float)\n",
    "data['horsepower'].fillna(data['horsepower'].mean(), inplace=True)\n",
    "\n",
    "\n",
    "features = data.drop(columns=[\"car name\"])\n",
    "scaler = StandardScaler()\n",
    "scaled_data = scaler.fit_transform(features)\n",
    "\n",
    "dim = scaled_data.shape[1]\n",
    "np.random.seed(42)  \n",
    "v1 = np.random.randn(dim)\n",
    "v2 = np.random.randn(dim)\n",
    "\n",
    "v1 = v1 / np.linalg.norm(v1)\n",
    "v2 = v2 / np.linalg.norm(v2)\n",
    "\n",
    "\n",
    "x_coords = scaled_data @ v1  \n",
    "y_coords = scaled_data @ v2  \n",
    "\n",
    "plt.figure(figsize=(10, 6))\n",
    "plt.scatter(x_coords, y_coords, alpha=0.6)\n",
    "\n",
    "target_index = data[data['car name'].str.contains(\"toyota corona mark ii\", case=False)].index[0]\n",
    "plt.scatter(x_coords[target_index], y_coords[target_index], color='red', s=100, label='Toyota Corona Mark II')\n",
    "\n",
    "plt.xlabel(\"Projection onto Vector 1\")\n",
    "plt.ylabel(\"Projection onto Vector 2\")\n",
    "plt.title(\"2D Projection using Arbitrary Vectors (Dot Product)\")\n",
    "plt.legend()\n",
    "plt.grid(True)\n",
    "plt.show()\n"
   ]
  },
  {
   "cell_type": "markdown",
   "id": "7aa6151d",
   "metadata": {},
   "source": [
    "### Question 4\n",
    "Write a function that returns dot product of two list of numbers"
   ]
  },
  {
   "cell_type": "code",
   "execution_count": 4,
   "id": "3cf99ab5",
   "metadata": {},
   "outputs": [
    {
     "data": {
      "text/plain": [
       "np.int64(32)"
      ]
     },
     "execution_count": 4,
     "metadata": {},
     "output_type": "execute_result"
    }
   ],
   "source": [
    "# Your code here\n",
    "def your_function_21(x,y):\n",
    "    return x.dot(y)\n",
    "\n",
    "x=np.array([1,2,3])\n",
    "y=np.array([4,5,6])\n",
    "your_function_21(x,y)\n",
    "    "
   ]
  },
  {
   "cell_type": "markdown",
   "id": "e6657c17",
   "metadata": {},
   "source": [
    "### Question 5\n",
    "Write a function that returns the projection of vector a onto vector b. Both a and b are given as list of numbers"
   ]
  },
  {
   "cell_type": "code",
   "execution_count": 8,
   "id": "25a24bdc",
   "metadata": {},
   "outputs": [
    {
     "data": {
      "text/plain": [
       "array([1.37931034, 2.06896552, 2.75862069])"
      ]
     },
     "execution_count": 8,
     "metadata": {},
     "output_type": "execute_result"
    }
   ],
   "source": [
    "# Your code here\n",
    "def your_function_22(a,b):\n",
    "    return (a.dot(b)/b.dot(b))*b\n",
    "\n",
    "a=np.array([1,2,3])\n",
    "b=np.array([2,3,4])\n",
    "your_function_22(a,b)"
   ]
  },
  {
   "cell_type": "markdown",
   "id": "219b6efc",
   "metadata": {},
   "source": [
    "### Question 6\n",
    "Create a class Vector that supports addition, dot product, and magnitude."
   ]
  },
  {
   "cell_type": "code",
   "execution_count": 15,
   "id": "3aaaa102",
   "metadata": {},
   "outputs": [
    {
     "name": "stderr",
     "output_type": "stream",
     "text": [
      "C:\\Users\\shebi\\AppData\\Local\\Temp\\ipykernel_22564\\2749140209.py:11: DeprecationWarning: Calling np.sum(generator) is deprecated, and in the future will give a different result. Use np.sum(np.fromiter(generator)) or the python sum builtin instead.\n",
      "  x=(np.sum(i**2 for i in self.a))**0.5\n"
     ]
    },
    {
     "data": {
      "text/plain": [
       "(np.float64(3.7416573867739413), np.float64(8.774964387392123))"
      ]
     },
     "execution_count": 15,
     "metadata": {},
     "output_type": "execute_result"
    }
   ],
   "source": [
    "# Your code here\n",
    "class vector:\n",
    "    def __init__(self,a,b):\n",
    "        self.a=np.array(a)\n",
    "        self.b=np.array(b)\n",
    "    def addition(self):\n",
    "        return self.a + self.b\n",
    "    def dot_p(self):\n",
    "        return self.a.dot(self.b)\n",
    "    def magnitude(self):\n",
    "        x=(np.sum(i**2 for i in self.a))**0.5\n",
    "        y=(sum(i**2 for i in self.b))**0.5\n",
    "        return x,y\n",
    "a=[1,2,3]\n",
    "b=[4,5,6]\n",
    "v1=vector(a,b) \n",
    "v1.addition()  \n",
    "v1.dot_p()  \n",
    "v1.magnitude()   "
   ]
  },
  {
   "cell_type": "markdown",
   "id": "5788f326",
   "metadata": {},
   "source": [
    "### Question 7\n",
    "Write a function that returns the L1 and L2 norms of a vector given as list"
   ]
  },
  {
   "cell_type": "code",
   "execution_count": 18,
   "id": "6bc87def",
   "metadata": {},
   "outputs": [
    {
     "data": {
      "text/plain": [
       "(np.int64(6), np.float64(3.7416573867739413))"
      ]
     },
     "execution_count": 18,
     "metadata": {},
     "output_type": "execute_result"
    }
   ],
   "source": [
    "# Your code here\n",
    "def your_function_28(a):\n",
    "    x=np.array(a)\n",
    "    l1_norm=np.sum(np.abs(x))\n",
    "    l2_norm=np.sqrt(np.sum(x**2))\n",
    "\n",
    "    return l1_norm,l2_norm\n",
    "a=[1,2,3]\n",
    "\n",
    "your_function_28(a)\n"
   ]
  }
 ],
 "metadata": {
  "kernelspec": {
   "display_name": ".venv",
   "language": "python",
   "name": "python3"
  },
  "language_info": {
   "codemirror_mode": {
    "name": "ipython",
    "version": 3
   },
   "file_extension": ".py",
   "mimetype": "text/x-python",
   "name": "python",
   "nbconvert_exporter": "python",
   "pygments_lexer": "ipython3",
   "version": "3.13.3"
  }
 },
 "nbformat": 4,
 "nbformat_minor": 5
}
